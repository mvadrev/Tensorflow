{
  "nbformat": 4,
  "nbformat_minor": 0,
  "metadata": {
    "colab": {
      "name": "Style transfer.ipynb",
      "provenance": [],
      "collapsed_sections": [],
      "authorship_tag": "ABX9TyN6779nkCZk0k4rwdC8JZkA",
      "include_colab_link": true
    },
    "kernelspec": {
      "name": "python3",
      "display_name": "Python 3"
    },
    "accelerator": "GPU"
  },
  "cells": [
    {
      "cell_type": "markdown",
      "metadata": {
        "id": "view-in-github",
        "colab_type": "text"
      },
      "source": [
        "<a href=\"https://colab.research.google.com/github/mvadrev/Tensorflow/blob/master/Style_transfer.ipynb\" target=\"_parent\"><img src=\"https://colab.research.google.com/assets/colab-badge.svg\" alt=\"Open In Colab\"/></a>"
      ]
    },
    {
      "cell_type": "code",
      "metadata": {
        "id": "3kJr_rtEgsMO",
        "colab_type": "code",
        "colab": {}
      },
      "source": [
        "%tensorflow_version 1.x\n",
        "import tensorflow\n",
        "from keras.preprocessing.image import load_img, img_to_array\n",
        "from keras import backend as K\n",
        "target_image_path = 'input/styletransfer/d.jpg'\n",
        "reference_image_path = 'input/styletransfer/stary.jpeg'\n",
        "width, height = load_img(target_image_path).size\n",
        "img_height = 800\n",
        "img_width = int(width * img_height / height)"
      ],
      "execution_count": 0,
      "outputs": []
    },
    {
      "cell_type": "code",
      "metadata": {
        "id": "nv0BjwEKgtB7",
        "colab_type": "code",
        "colab": {}
      },
      "source": [
        "import numpy as np\n",
        "def preprocess_image(image_path):\n",
        "    img = load_img(image_path, target_size=(img_height, img_width))\n",
        "    img = img_to_array(img)\n",
        "    img = np.expand_dims(img, axis=0)\n",
        "    img = vgg19.preprocess_input(img)\n",
        "    return img\n",
        "def deprocess_image(x):\n",
        "    x[:, :, 0] += 103.939\n",
        "    x[:, :, 1] += 116.779\n",
        "    x[:, :, 2] += 123.68\n",
        "    x = x[:, :, ::-1]\n",
        "    x = np.clip(x, 0, 255).astype('uint8')\n",
        "    return x"
      ],
      "execution_count": 0,
      "outputs": []
    },
    {
      "cell_type": "code",
      "metadata": {
        "id": "4C9IDzCUjBRx",
        "colab_type": "code",
        "colab": {}
      },
      "source": [
        "\n",
        "from keras.applications import vgg19\n",
        "target_image = K.constant(preprocess_image(target_image_path))\n",
        "reference_image = K.constant(preprocess_image(reference_image_path))\n",
        "combination_image = K.placeholder((1, img_height, img_width, 3))\n",
        "input_tensor = K.concatenate([target_image,\n",
        "                              reference_image,\n",
        "                              combination_image], axis=0)\n",
        "    \n",
        "model = vgg19.VGG19(input_tensor=input_tensor,\n",
        "                    weights='imagenet',\n",
        "                    include_top=False)"
      ],
      "execution_count": 0,
      "outputs": []
    },
    {
      "cell_type": "code",
      "metadata": {
        "id": "V32j6KQMpPul",
        "colab_type": "code",
        "colab": {}
      },
      "source": [
        "def content_loss(base, combination):\n",
        "    return K.sum(K.square(combination - base))\n",
        "def gram_matrix(x):\n",
        "    features = K.batch_flatten(K.permute_dimensions(x, (2, 0, 1)))\n",
        "    gram = K.dot(features, K.transpose(features))\n",
        "    return gram\n",
        "def style_loss(style, combination):\n",
        "    S = gram_matrix(style)\n",
        "    C = gram_matrix(combination)\n",
        "    channels = 3\n",
        "    size = img_height * img_width\n",
        "    return K.sum(K.square(S - C)) / (4. * (channels ** 2) * (size ** 2))\n",
        "def total_variation_loss(x):\n",
        "    a = K.square(\n",
        "            x[:, :img_height - 1, :img_width - 1, :] -\n",
        "            x[:, 1:, :img_width - 1, :])\n",
        "    b = K.square(\n",
        "            x[:, :img_height - 1, :img_width - 1, :] -\n",
        "            x[:, :img_height - 1, 1:, :])\n",
        "    return K.sum(K.pow(a + b, 1.25))"
      ],
      "execution_count": 0,
      "outputs": []
    },
    {
      "cell_type": "code",
      "metadata": {
        "id": "8cy-8UPMpeWO",
        "colab_type": "code",
        "colab": {}
      },
      "source": [
        "outputs_dict = dict([(layer.name, layer.output) for layer in model.layers])\n",
        "content_layer = 'block5_conv2'\n",
        "style_layers = ['block1_conv1',\n",
        "                'block2_conv1',\n",
        "                'block3_conv1',\n",
        "                'block4_conv1',\n",
        "                'block5_conv1']\n",
        "total_variation_weight = 1e-5\n",
        "style_weight = 1.\n",
        "content_weight = 0.0003125"
      ],
      "execution_count": 0,
      "outputs": []
    },
    {
      "cell_type": "code",
      "metadata": {
        "id": "JRQvtaiOpiWx",
        "colab_type": "code",
        "colab": {
          "base_uri": "https://localhost:8080/",
          "height": 54
        },
        "outputId": "71f356a6-fc9d-4f7f-e620-e1c58276cdf8"
      },
      "source": [
        "loss = K.variable(0.)\n",
        "layer_features = outputs_dict[content_layer]\n",
        "target_image_features = layer_features[0, :, :, :]\n",
        "combination_features = layer_features[2, :, :, :]\n",
        "loss += content_weight * content_loss(target_image_features,\n",
        "                                      combination_features)\n",
        "for layer_name in style_layers:\n",
        "    layer_features = outputs_dict[layer_name]\n",
        "    \n",
        "    reference_features = layer_features[1, :, :, :]\n",
        "    combination_features = layer_features[2, :, :, :]\n",
        "    \n",
        "    sl = style_loss(reference_features, combination_features)\n",
        "    loss += (style_weight / len(style_layers)) * sl\n",
        "    \n",
        "loss += total_variation_weight * total_variation_loss(combination_image)"
      ],
      "execution_count": 43,
      "outputs": [
        {
          "output_type": "stream",
          "text": [
            "WARNING:tensorflow:Variable += will be deprecated. Use variable.assign_add if you want assignment to the variable value or 'x = x + y' if you want a new python Tensor object.\n"
          ],
          "name": "stdout"
        }
      ]
    },
    {
      "cell_type": "code",
      "metadata": {
        "id": "crAc33bTpmZ8",
        "colab_type": "code",
        "colab": {}
      },
      "source": [
        "grads = K.gradients(loss, combination_image)[0]\n",
        "fetch_loss_and_grads = K.function([combination_image], [loss, grads])"
      ],
      "execution_count": 0,
      "outputs": []
    },
    {
      "cell_type": "code",
      "metadata": {
        "id": "rCXDv3bLpqUI",
        "colab_type": "code",
        "colab": {
          "base_uri": "https://localhost:8080/",
          "height": 918
        },
        "outputId": "87c3d069-2283-4ea0-f172-b2b8c5b05699"
      },
      "source": [
        "from keras.preprocessing.image import save_img\n",
        "class Evaluator(object):\n",
        "    \n",
        "    def __init__(self):\n",
        "        self.loss_value = None\n",
        "        self.grads_values = None\n",
        "    \n",
        "    def loss(self, x):\n",
        "        assert self.loss_value is None\n",
        "        x = x.reshape((1, img_height, img_width, 3))\n",
        "        outs = fetch_loss_and_grads([x])\n",
        "    \n",
        "        loss_value = outs[0]\n",
        "        grad_values = outs[1].flatten().astype('float64')\n",
        "        self.loss_value = loss_value\n",
        "        self.grad_values = grad_values\n",
        "        return self.loss_value\n",
        "    def grads(self, x):\n",
        "            assert self.loss_value is not None\n",
        "            grad_values = np.copy(self.grad_values)\n",
        "            self.loss_value = None\n",
        "            self.grad_values = None\n",
        "            return grad_values\n",
        "evaluator = Evaluator()\n",
        "from scipy.optimize import fmin_l_bfgs_b\n",
        "#from scipy.misc import imsave\n",
        "import time\n",
        "result_prefix = 'my_result'\n",
        "iterations = 200\n",
        "x = preprocess_image(target_image_path)\n",
        "x = x.flatten()\n",
        "for i in range(iterations):\n",
        "    print('Start of iteration', i)\n",
        "    start_time = time.time()\n",
        "    \n",
        "    \n",
        "    x, min_val, info = fmin_l_bfgs_b(evaluator.loss,\n",
        "                                     x,\n",
        "                                     fprime=evaluator.grads,\n",
        "                                     maxfun=20)\n",
        "    print('Current loss value:', min_val)\n",
        "    img = x.copy().reshape((img_height, img_width, 3))  \n",
        "    img = deprocess_image(img)\n",
        "    fname = result_prefix + '_at_iteration_%d.png' % i\n",
        "    save_img(fname, img)\n",
        "    print('Image saved as', fname)\n",
        "    end_time = time.time()\n",
        "    print('Iteration %d completed in %ds' % (i, end_time - start_time))"
      ],
      "execution_count": 0,
      "outputs": [
        {
          "output_type": "stream",
          "text": [
            "Start of iteration 0\n",
            "Current loss value: 2491692000.0\n",
            "Image saved as my_result_at_iteration_0.png\n",
            "Iteration 0 completed in 36s\n",
            "Start of iteration 1\n",
            "Current loss value: 1036085950.0\n",
            "Image saved as my_result_at_iteration_1.png\n",
            "Iteration 1 completed in 36s\n",
            "Start of iteration 2\n",
            "Current loss value: 709514940.0\n",
            "Image saved as my_result_at_iteration_2.png\n",
            "Iteration 2 completed in 37s\n",
            "Start of iteration 3\n",
            "Current loss value: 542165600.0\n",
            "Image saved as my_result_at_iteration_3.png\n",
            "Iteration 3 completed in 39s\n",
            "Start of iteration 4\n",
            "Current loss value: 449558080.0\n",
            "Image saved as my_result_at_iteration_4.png\n",
            "Iteration 4 completed in 37s\n",
            "Start of iteration 5\n",
            "Current loss value: 391599800.0\n",
            "Image saved as my_result_at_iteration_5.png\n",
            "Iteration 5 completed in 37s\n",
            "Start of iteration 6\n",
            "Current loss value: 352470240.0\n",
            "Image saved as my_result_at_iteration_6.png\n",
            "Iteration 6 completed in 37s\n",
            "Start of iteration 7\n",
            "Current loss value: 305655230.0\n",
            "Image saved as my_result_at_iteration_7.png\n",
            "Iteration 7 completed in 37s\n",
            "Start of iteration 8\n",
            "Current loss value: 268112180.0\n",
            "Image saved as my_result_at_iteration_8.png\n",
            "Iteration 8 completed in 37s\n",
            "Start of iteration 9\n",
            "Current loss value: 247827330.0\n",
            "Image saved as my_result_at_iteration_9.png\n",
            "Iteration 9 completed in 37s\n",
            "Start of iteration 10\n",
            "Current loss value: 229008100.0\n",
            "Image saved as my_result_at_iteration_10.png\n",
            "Iteration 10 completed in 38s\n",
            "Start of iteration 11\n",
            "Current loss value: 210447460.0\n",
            "Image saved as my_result_at_iteration_11.png\n",
            "Iteration 11 completed in 37s\n",
            "Start of iteration 12\n",
            "Current loss value: 196443150.0\n",
            "Image saved as my_result_at_iteration_12.png\n",
            "Iteration 12 completed in 37s\n",
            "Start of iteration 13\n"
          ],
          "name": "stdout"
        }
      ]
    }
  ]
}